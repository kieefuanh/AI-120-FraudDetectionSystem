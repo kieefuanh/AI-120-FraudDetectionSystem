{
  "cells": [
    {
      "cell_type": "markdown",
      "metadata": {
        "id": "view-in-github",
        "colab_type": "text"
      },
      "source": [
        "<a href=\"https://colab.research.google.com/github/peachula/AI-120-FraudDetectionSystem/blob/main/VGG16/VGG16.ipynb\" target=\"_parent\"><img src=\"https://colab.research.google.com/assets/colab-badge.svg\" alt=\"Open In Colab\"/></a>"
      ]
    },
    {
      "cell_type": "markdown",
      "metadata": {
        "id": "99gouOiNPxGr"
      },
      "source": [
        "# Setup - Install - Import "
      ]
    },
    {
      "cell_type": "markdown",
      "metadata": {
        "id": "bkBYjwxOo5XX"
      },
      "source": [
        "## Connect to drive"
      ]
    },
    {
      "cell_type": "code",
      "execution_count": null,
      "metadata": {
        "colab": {
          "base_uri": "https://localhost:8080/"
        },
        "id": "DDtO8-99Uind",
        "outputId": "1cc8aa21-3c92-4c4d-fa93-ac6395f7df4c"
      },
      "outputs": [
        {
          "name": "stdout",
          "output_type": "stream",
          "text": [
            "Mounted at /content/drive\n"
          ]
        }
      ],
      "source": [
        "from google.colab import drive\n",
        "drive.mount('/content/drive')"
      ]
    },
    {
      "cell_type": "markdown",
      "metadata": {
        "id": "5JR3bzUCo4o5"
      },
      "source": [
        "## Import libraries"
      ]
    },
    {
      "cell_type": "code",
      "execution_count": null,
      "metadata": {
        "id": "U0OrQKgSy2j7"
      },
      "outputs": [],
      "source": [
        "from IPython.display import clear_output"
      ]
    },
    {
      "cell_type": "code",
      "execution_count": null,
      "metadata": {
        "id": "f6Nu4w-yUg42"
      },
      "outputs": [],
      "source": [
        "import shutil\n",
        "import os"
      ]
    },
    {
      "cell_type": "code",
      "execution_count": null,
      "metadata": {
        "id": "33qlKmLBUx9v"
      },
      "outputs": [],
      "source": [
        "from __future__ import print_function, division\n",
        "import torch\n",
        "import torch.nn as nn\n",
        "import torch.optim as optim\n",
        "from torch.optim import lr_scheduler\n",
        "import numpy as np\n",
        "import torchvision\n",
        "from torchvision import datasets, models, transforms\n",
        "from sklearn.metrics import classification_report, accuracy_score, confusion_matrix, precision_recall_curve, auc, f1_score\n",
        "import matplotlib.pyplot as plt\n",
        "import time\n",
        "import copy\n",
        "from torch.autograd import Variable\n",
        "from PIL import Image\n",
        "import random\n",
        "import cv2\n",
        "import numpy as np \n",
        "import pandas as pd\n",
        "import pywt\n",
        "from numpy import argmax"
      ]
    },
    {
      "cell_type": "code",
      "execution_count": null,
      "metadata": {
        "id": "dGs58PdIidxi"
      },
      "outputs": [],
      "source": [
        "! pip install wandb -qqq\n",
        "clear_output()\n",
        "\n",
        "import wandb"
      ]
    },
    {
      "cell_type": "markdown",
      "metadata": {
        "id": "ylbXmcqF1X7Y"
      },
      "source": [
        "# --CONFIG--"
      ]
    },
    {
      "cell_type": "code",
      "execution_count": null,
      "metadata": {
        "id": "cQ4pq8P10bDz"
      },
      "outputs": [],
      "source": [
        "## wandb setting\n",
        "PROJECT = 'Fake_IC'\n",
        "GROUP = 'fetch_data'\n",
        "JOB_TYPE = \"fetch_data\"\n",
        "RUN_NAME = 'VGG16'\n",
        "\n",
        "TAGS = ['VGG16', 'cropped', 'vgg_bn']\n",
        "\n",
        "CONFIG = {\n",
        "    \"epochs\" : 20,\n",
        "    \"input_width\": 500,\n",
        "    \"input_height\": 300,\n",
        "    \"process_data\": \"Normal\",\n",
        "}\n",
        "\n",
        "DEVICE = torch.device(\"cuda:0\" if torch.cuda.is_available() else \"cpu\")\n",
        "\n",
        "TRAIN = 'train'\n",
        "VAL = 'val'\n",
        "TEST = 'test'\n",
        "\n",
        "BEST_MODEL_PATH =  'drive/MyDrive/IDCD/fake_ic_detection/VGG16/models/vgg16bn_fake_ic_detect_best.pth'\n",
        "SAVE_LOG_PATH = 'drive/MyDrive/SunshineTech/IDCD/fake_ic_detection/VGG16/outputs/train_log.txt'\n",
        "SAVE_IMAGE_PATH = 'mispre_bn'"
      ]
    },
    {
      "cell_type": "markdown",
      "metadata": {
        "id": "t_g-V_OppKWB"
      },
      "source": [
        "# Get dataset"
      ]
    },
    {
      "cell_type": "markdown",
      "metadata": {
        "id": "xAtC614y0VoP"
      },
      "source": [
        "## Unzip from drive"
      ]
    },
    {
      "cell_type": "code",
      "execution_count": null,
      "metadata": {
        "id": "0bcD1ypLVVPU"
      },
      "outputs": [],
      "source": [
        "! unzip /content/drive/MyDrive/IDCD/data/interm/MPNet_dataset_recaptured.zip\n",
        "clear_output()"
      ]
    },
    {
      "cell_type": "markdown",
      "metadata": {
        "id": "T6NTUQz-0X29"
      },
      "source": [
        "## Load artifact wandb"
      ]
    },
    {
      "cell_type": "code",
      "execution_count": null,
      "metadata": {
        "id": "exIJvuiN1WHy"
      },
      "outputs": [],
      "source": [
        "run = wandb.init(project= PROJECT, \n",
        "                 group= GROUP,\n",
        "                 job_type= JOB_TYPE, \n",
        "                 tags = TAGS,\n",
        "                 entity = 'anhntk', \n",
        "                 name= RUN_NAME,\n",
        "                #  id= RUN_ID\n",
        "                 config = CONFIG,\n",
        "                 )"
      ]
    },
    {
      "cell_type": "code",
      "execution_count": null,
      "metadata": {
        "id": "xFh-73T7QExf"
      },
      "outputs": [],
      "source": [
        "artifact = run.use_artifact('anhntk/Fake_IC/train:v0', type='recaptured_data')\n",
        "artifact_dir = artifact.download()\n",
        "\n",
        "artifact = run.use_artifact('anhntk/Fake_IC/val:v0', type='recaptured_data')\n",
        "artifact_dir = artifact.download()\n"
      ]
    },
    {
      "cell_type": "code",
      "execution_count": null,
      "metadata": {
        "id": "ejf3vTUk5kAR"
      },
      "outputs": [],
      "source": [
        "artifact = run.use_artifact('anhntk/Fake_IC/test:v0', type='recaptured_data')\n",
        "artifact_dir = artifact.download()"
      ]
    },
    {
      "cell_type": "code",
      "execution_count": null,
      "metadata": {
        "id": "zIdH9UziBdJ3"
      },
      "outputs": [],
      "source": [
        "run.finish()"
      ]
    },
    {
      "cell_type": "markdown",
      "metadata": {
        "id": "LBMaYVEnNLeX"
      },
      "source": [
        "## Count files"
      ]
    },
    {
      "cell_type": "code",
      "execution_count": null,
      "metadata": {
        "colab": {
          "base_uri": "https://localhost:8080/"
        },
        "id": "f1kx1uX0HsEl",
        "outputId": "005bf1dd-7d97-4a7f-8fd4-b319ab6b396d"
      },
      "outputs": [
        {
          "name": "stdout",
          "output_type": "stream",
          "text": [
            "/content/MPNet_dataset_recaptured\n",
            "0\n",
            "/content/MPNet_dataset_recaptured/test\n",
            "0\n",
            "/content/MPNet_dataset_recaptured/test/real\n",
            "545\n",
            "/content/MPNet_dataset_recaptured/test/fake\n",
            "187\n",
            "/content/MPNet_dataset_recaptured/train\n",
            "0\n",
            "/content/MPNet_dataset_recaptured/train/real\n",
            "1508\n",
            "/content/MPNet_dataset_recaptured/train/fake\n",
            "551\n",
            "/content/MPNet_dataset_recaptured/val\n",
            "0\n",
            "/content/MPNet_dataset_recaptured/val/real\n",
            "506\n",
            "/content/MPNet_dataset_recaptured/val/fake\n",
            "184\n"
          ]
        }
      ],
      "source": [
        "for root, dir, files in os.walk(\"/content/MPNet_dataset_recaptured\"):\n",
        "    print(root)\n",
        "    print(len(files))"
      ]
    },
    {
      "cell_type": "markdown",
      "metadata": {
        "id": "nGdvn1ej95tP"
      },
      "source": [
        "# Process data"
      ]
    },
    {
      "cell_type": "markdown",
      "metadata": {
        "id": "K3x_v44RAv-z"
      },
      "source": [
        "## Normal process"
      ]
    },
    {
      "cell_type": "code",
      "execution_count": null,
      "metadata": {
        "id": "xy7A7G4TU32V"
      },
      "outputs": [],
      "source": [
        "data_transforms = {\n",
        "    TRAIN: transforms.Compose([\n",
        "        transforms.Resize((CONFIG[\"input_height\"], CONFIG[\"input_width\"])), ## H, W\n",
        "        transforms.RandomHorizontalFlip(),\n",
        "        transforms.RandomVerticalFlip(),\n",
        "        transforms.ToTensor(),\n",
        "        transforms.Normalize([0.485, 0.456, 0.406], [0.229, 0.224, 0.225])\n",
        "    ]),\n",
        "    VAL: transforms.Compose([\n",
        "        transforms.Resize((CONFIG[\"input_height\"], CONFIG[\"input_width\"])),\n",
        "        transforms.ToTensor(),\n",
        "        transforms.Normalize([0.485, 0.456, 0.406], [0.229, 0.224, 0.225])\n",
        "    ]),\n",
        "    TEST: transforms.Compose([\n",
        "        transforms.Resize((CONFIG[\"input_height\"], CONFIG[\"input_width\"])),\n",
        "        transforms.ToTensor(),\n",
        "        transforms.Normalize([0.485, 0.456, 0.406], [0.229, 0.224, 0.225])\n",
        "    ]),\n",
        "}\n"
      ]
    },
    {
      "cell_type": "markdown",
      "metadata": {
        "id": "PeDP-iymBU1T"
      },
      "source": [
        "## DWT"
      ]
    },
    {
      "cell_type": "code",
      "execution_count": null,
      "metadata": {
        "id": "umYQScFEDWSe"
      },
      "outputs": [],
      "source": [
        "class ToDWT(object):\n",
        "    def __call__(self, img):\n",
        "        \"\"\"\n",
        "        :param img: (PIL): Image \n",
        "        Image -> DWT {LL, LH, HL, HH} -> concat -> array\n",
        "        :return: combine array (array)\n",
        "        \"\"\"\n",
        "\n",
        "        img = img.convert('L')\n",
        "        img = np.array(img)\n",
        "        img = cv2.resize(img, (CONFIG[\"input_width\"] * 2 -4, CONFIG[\"input_height\"] * 2 -4)) ## cv2 resize dim(w,h)\n",
        "        coeffs2 = pywt.dwt2(img, 'bior1.3')\n",
        "        LL, (LH, HL, HH) = coeffs2     #500x402x4\n",
        "\n",
        "        ## Merge chanel\n",
        "        dst = np.array([LH, HL, HH]).transpose(1,2,0)\n",
        "        return dst\n",
        "\n",
        "    def __repr__(self):\n",
        "        return self.__class__.__name__+'()'"
      ]
    },
    {
      "cell_type": "code",
      "execution_count": null,
      "metadata": {
        "id": "UWkVs_gzDWSm"
      },
      "outputs": [],
      "source": [
        "data_transforms = {\n",
        "    TRAIN: transforms.Compose([\n",
        "        ToDWT(),\n",
        "        transforms.ToTensor(),\n",
        "        # transforms.Normalize([0.485, 0.456, 0.406], [0.229, 0.224, 0.225])\n",
        "    ]),\n",
        "    VAL: transforms.Compose([\n",
        "        ToDWT(),\n",
        "        transforms.ToTensor(),\n",
        "        # transforms.Normalize([0.485, 0.456, 0.406], [0.229, 0.224, 0.225])\n",
        "    ]),\n",
        "    TEST: transforms.Compose([\n",
        "        ToDWT(),\n",
        "        transforms.ToTensor(),\n",
        "        # transforms.Normalize([0.485, 0.456, 0.406], [0.229, 0.224, 0.225])\n",
        "    ]),\n",
        "}\n"
      ]
    },
    {
      "cell_type": "markdown",
      "metadata": {
        "id": "yFhuQLcXA0pK"
      },
      "source": [
        "## ELA"
      ]
    },
    {
      "cell_type": "code",
      "execution_count": null,
      "metadata": {
        "id": "UYfM0HIKC73j"
      },
      "outputs": [],
      "source": [
        "class ToELA(object):\n",
        "    def __call__(self, img):\n",
        "        \"\"\"\n",
        "        :param img: (PIL): Image \n",
        "        Image -> BGR cv2 -> ELA -> Image\n",
        "        :return: ELA image (PIL)\n",
        "        \"\"\"\n",
        "        jpg_quality1 = 95\n",
        "        scale = 15\n",
        "\n",
        "        img = np.array(img) \n",
        "        img = cv2.cvtColor(img, cv2.COLOR_RGB2BGR)\n",
        "        \n",
        "        encode_param = [cv2.IMWRITE_JPEG_QUALITY, jpg_quality1]\n",
        "        _, encimg = cv2.imencode('.jpg', img, encode_param)\n",
        "        decimg = cv2.imdecode(encimg, cv2.IMREAD_COLOR)\n",
        "        diff = scale * cv2.absdiff(img, decimg)\n",
        "        \n",
        "        img = cv2.cvtColor(diff, cv2.COLOR_BGR2RGB)\n",
        "\n",
        "        return img\n",
        "\n",
        "    def __repr__(self):\n",
        "        return self.__class__.__name__+'()'"
      ]
    },
    {
      "cell_type": "code",
      "execution_count": null,
      "metadata": {
        "id": "Uo4tBQViC73k"
      },
      "outputs": [],
      "source": [
        "data_transforms = {\n",
        "    TRAIN: transforms.Compose([\n",
        "        ToELA(),\n",
        "        transforms.ToPILImage(),\n",
        "        transforms.Resize((CONFIG[\"input_height\"], CONFIG[\"input_width\"])),\n",
        "        transforms.ToTensor(),\n",
        "    ]),\n",
        "    VAL: transforms.Compose([\n",
        "        ToELA(),\n",
        "        transforms.ToPILImage(),\n",
        "        transforms.Resize((CONFIG[\"input_height\"], CONFIG[\"input_width\"])),\n",
        "        transforms.ToTensor(),\n",
        "    ]),\n",
        "    TEST: transforms.Compose([\n",
        "        ToELA(),\n",
        "        transforms.ToPILImage(),\n",
        "        transforms.Resize((CONFIG[\"input_height\"], CONFIG[\"input_width\"])),\n",
        "        transforms.ToTensor(),\n",
        "    ]),\n",
        "}\n"
      ]
    },
    {
      "cell_type": "markdown",
      "metadata": {
        "id": "mLcbFyKSAzJC"
      },
      "source": [
        "## DWT + ELA"
      ]
    },
    {
      "cell_type": "code",
      "execution_count": null,
      "metadata": {
        "id": "Rr26a_5qDv21"
      },
      "outputs": [],
      "source": [
        "class ExtractFeatures(object):\n",
        "    def __call__(self, img):\n",
        "        \"\"\"\n",
        "        :param img: (PIL): Image \n",
        "        Image -> DWT {LL, LH, HL, HH} -> concat -> array\n",
        "        :return: combine array (array)\n",
        "        \"\"\"\n",
        "\n",
        "        ### dwt\n",
        "        dwt = img.convert('L')\n",
        "        dwt = np.array(dwt)\n",
        "        dwt = cv2.resize(dwt, (CONFIG[\"input_width\"] * 2 -4, CONFIG[\"input_height\"] * 2 -4))\n",
        "        coeffs2 = pywt.dwt2(dwt, 'bior1.3')\n",
        "        LL, (LH, HL, HH) = coeffs2     #500x402x4\n",
        "        dwt = np.array([LH, HL, HH]).transpose(1,2,0)\n",
        "\n",
        "        ### ELA\n",
        "        jpg_quality1 = 95\n",
        "        scale = 15\n",
        "\n",
        "        ela = np.array(img) \n",
        "        ela = cv2.resize(ela, (CONFIG[\"input_width\"], CONFIG[\"input_height\"]))\n",
        "        ela = cv2.cvtColor(ela, cv2.COLOR_RGB2BGR)\n",
        "        \n",
        "        encode_param = [cv2.IMWRITE_JPEG_QUALITY, jpg_quality1]\n",
        "        _, encimg = cv2.imencode('.jpg', ela, encode_param)\n",
        "        decimg = cv2.imdecode(encimg, cv2.IMREAD_COLOR)\n",
        "        diff = scale * cv2.absdiff(ela, decimg)\n",
        "        # ela = cv2.resize(ela, (500,300))\n",
        "        dst = np.concatenate((ela, dwt), axis=0)\n",
        "        return dst\n",
        "\n",
        "    def __repr__(self):\n",
        "        return self.__class__.__name__+'()'"
      ]
    },
    {
      "cell_type": "code",
      "execution_count": null,
      "metadata": {
        "id": "5xdBMNoTA-mm"
      },
      "outputs": [],
      "source": [
        "data_transforms = {\n",
        "    TRAIN: transforms.Compose([\n",
        "        ExtractFeatures(),\n",
        "        transforms.ToTensor(),\n",
        "    ]),\n",
        "    VAL: transforms.Compose([\n",
        "        ExtractFeatures(),\n",
        "        transforms.ToTensor(),\n",
        "    ]),\n",
        "    TEST: transforms.Compose([\n",
        "        ExtractFeatures(),\n",
        "        transforms.ToTensor(),\n",
        "    ]),\n",
        "}\n"
      ]
    },
    {
      "cell_type": "markdown",
      "metadata": {
        "id": "MfGNbzgeBF6T"
      },
      "source": [
        "# Make dataloader"
      ]
    },
    {
      "cell_type": "code",
      "execution_count": null,
      "metadata": {
        "id": "HZDQQOI65P01"
      },
      "outputs": [],
      "source": [
        "data_dir = \"MPNet_dataset_recaptured\""
      ]
    },
    {
      "cell_type": "code",
      "execution_count": null,
      "metadata": {
        "colab": {
          "base_uri": "https://localhost:8080/"
        },
        "id": "8-SQPnwfAJYu",
        "outputId": "8dbc7c3a-9e9b-46f3-8cf8-d578c6999b50"
      },
      "outputs": [
        {
          "name": "stderr",
          "output_type": "stream",
          "text": [
            "/usr/local/lib/python3.7/dist-packages/torch/utils/data/dataloader.py:481: UserWarning: This DataLoader will create 4 worker processes in total. Our suggested max number of worker in current system is 2, which is smaller than what this DataLoader is going to create. Please be aware that excessive worker creation might get DataLoader running slow or even freeze, lower the worker number to avoid potential slowness/freeze if necessary.\n",
            "  cpuset_checked))\n"
          ]
        }
      ],
      "source": [
        "image_datasets = {x: datasets.ImageFolder(os.path.join(data_dir, x),\n",
        "                                          data_transforms[x])\n",
        "                  for x in [TRAIN,VAL, TEST]}\n",
        "\n",
        "dataloaders = {x: torch.utils.data.DataLoader(image_datasets[x], batch_size=4,\n",
        "                                             shuffle=True, num_workers=4)\n",
        "              for x in [TRAIN, VAL, TEST]}"
      ]
    },
    {
      "cell_type": "code",
      "execution_count": null,
      "metadata": {
        "colab": {
          "base_uri": "https://localhost:8080/"
        },
        "id": "cphuoZuHUg48",
        "outputId": "20730c0d-4680-4dd7-dd6d-bdfe2a3dc7dc"
      },
      "outputs": [
        {
          "name": "stdout",
          "output_type": "stream",
          "text": [
            "{'train': 2059, 'val': 690, 'test': 732}\n",
            "['fake', 'real']\n",
            "2\n"
          ]
        }
      ],
      "source": [
        "dataset_sizes = {x: len(image_datasets[x]) for x in [TRAIN, VAL, TEST]}\n",
        "\n",
        "print(dataset_sizes)\n",
        "class_names = image_datasets[TRAIN].classes\n",
        "print(class_names)\n",
        "num_classes = len(class_names)\n",
        "print(num_classes)"
      ]
    },
    {
      "cell_type": "code",
      "execution_count": null,
      "metadata": {
        "id": "HNKHDH2fWdrM"
      },
      "outputs": [],
      "source": [
        "#! ls /content/dataset | wc -l"
      ]
    },
    {
      "cell_type": "markdown",
      "metadata": {
        "id": "PB27eV1VpUiz"
      },
      "source": [
        "# Define Functions"
      ]
    },
    {
      "cell_type": "code",
      "execution_count": null,
      "metadata": {
        "colab": {
          "base_uri": "https://localhost:8080/",
          "height": 170
        },
        "id": "K7cX7pXyUsRh",
        "outputId": "fcf04934-32c2-4825-cacf-a93ac3a7528d"
      },
      "outputs": [
        {
          "name": "stderr",
          "output_type": "stream",
          "text": [
            "/usr/local/lib/python3.7/dist-packages/torch/utils/data/dataloader.py:481: UserWarning: This DataLoader will create 4 worker processes in total. Our suggested max number of worker in current system is 2, which is smaller than what this DataLoader is going to create. Please be aware that excessive worker creation might get DataLoader running slow or even freeze, lower the worker number to avoid potential slowness/freeze if necessary.\n",
            "  cpuset_checked))\n"
          ]
        },
        {
          "data": {
            "image/png": "[encoded data removed]",
            "text/plain": [
              "<Figure size 432x288 with 1 Axes>"
            ]
          },
          "metadata": {},
          "output_type": "display_data"
        }
      ],
      "source": [
        "def imshow(inp,name = None, title=None):\n",
        "    \"\"\"Imshow for Tensor.\"\"\"\n",
        "    inp = inp.numpy().transpose((1, 2, 0))\n",
        "    mean = np.array([0.485, 0.456, 0.406])\n",
        "    std = np.array([0.229, 0.224, 0.225])\n",
        "    inp = std * inp + mean\n",
        "    inp = np.clip(inp, 0, 1)\n",
        "    plt.imshow(inp)\n",
        "    if title is not None:\n",
        "        plt.title(title)\n",
        "    if name is not None:\n",
        "        plt.imsave(name,inp)\n",
        "    plt.pause(0.001)  # pause a bit so that plots are updated\n",
        "\n",
        "# Get a batch of training data\n",
        "inputs, classes = next(iter(dataloaders[TRAIN]))\n",
        "\n",
        "# Make a grid from batch\n",
        "out = torchvision.utils.make_grid(inputs)\n",
        "\n",
        "imshow(out, title=[class_names[x] for x in classes])"
      ]
    },
    {
      "cell_type": "code",
      "execution_count": null,
      "metadata": {
        "id": "qEJ8Ys_pXPsj"
      },
      "outputs": [],
      "source": [
        "def visualize_model(model, num_images=6):\t\t\n",
        "    '''Visualize data on validation set'''\t\n",
        "    was_training = model.training\n",
        "    model.eval()\n",
        "    images_so_far = 0\n",
        "    fig = plt.figure()\n",
        "\n",
        "    with torch.no_grad():\n",
        "        for i, (inputs, labels) in enumerate(dataloaders[VAL]):\n",
        "            inputs = inputs.to(DEVICE)\n",
        "            labels = labels.to(DEVICE)\n",
        "\n",
        "            outputs = model(inputs)\n",
        "            _, preds = torch.max(outputs, 1)\n",
        "            print(labels)\n",
        "\n",
        "            for j in range(inputs.size()[0]):\n",
        "                images_so_far += 1\n",
        "                ax = plt.subplot(num_images//2, 2, images_so_far)\n",
        "                ax.axis('off')\n",
        "                ax.set_title('predicted: {}'.format(class_names[preds[j]]))\n",
        "                imshow(inputs.cpu().data[j])\n",
        "\n",
        "                if images_so_far == num_images:\n",
        "                    model.train(mode=was_training)\n",
        "                    return\n",
        "        model.train(mode=was_training)"
      ]
    },
    {
      "cell_type": "markdown",
      "metadata": {
        "id": "JcICeD-zpuq0"
      },
      "source": [
        "# Load and redefine layers inmodel"
      ]
    },
    {
      "cell_type": "code",
      "execution_count": null,
      "metadata": {
        "id": "BW4A4-NsW-0p"
      },
      "outputs": [],
      "source": [
        "# vgg16 = torchvision.models.vgg16_bn()\n",
        "vgg16 = models.vgg16_bn(pretrained=True)\n",
        "#vgg16.load_state_dict(torch.load(\"/content/drive/MyDrive/IDCD/Fake_Detection/vgg16/vgg16_bn-6c64b313.pth\"))\n",
        "#print(vgg16.classifier[6].out_features) # 1000 \n",
        "\n",
        "# Freeze training for all layers\n",
        "for param in vgg16.features.parameters():\n",
        "    param.require_grad = False\n",
        "\n",
        "# Newly created modules have require_grad=True by default\n",
        "num_features = vgg16.classifier[6].in_features\n",
        "features = list(vgg16.classifier.children())[:-1] # Remove last layer\n",
        "features.extend([nn.Linear(num_features, num_classes)]) # Add our layer with 2 outputs\n",
        "vgg16.classifier = nn.Sequential(*features) # Replace the model classifier\n"
      ]
    },
    {
      "cell_type": "code",
      "execution_count": null,
      "metadata": {
        "colab": {
          "base_uri": "https://localhost:8080/"
        },
        "id": "HsqpBKGa60cC",
        "outputId": "d9f80c72-791a-4264-f4fd-b66cda95a20a"
      },
      "outputs": [
        {
          "name": "stdout",
          "output_type": "stream",
          "text": [
            "VGG(\n",
            "  (features): Sequential(\n",
            "    (0): Conv2d(3, 64, kernel_size=(3, 3), stride=(1, 1), padding=(1, 1))\n",
            "    (1): BatchNorm2d(64, eps=1e-05, momentum=0.1, affine=True, track_running_stats=True)\n",
            "    (2): ReLU(inplace=True)\n",
            "    (3): Conv2d(64, 64, kernel_size=(3, 3), stride=(1, 1), padding=(1, 1))\n",
            "    (4): BatchNorm2d(64, eps=1e-05, momentum=0.1, affine=True, track_running_stats=True)\n",
            "    (5): ReLU(inplace=True)\n",
            "    (6): MaxPool2d(kernel_size=2, stride=2, padding=0, dilation=1, ceil_mode=False)\n",
            "    (7): Conv2d(64, 128, kernel_size=(3, 3), stride=(1, 1), padding=(1, 1))\n",
            "    (8): BatchNorm2d(128, eps=1e-05, momentum=0.1, affine=True, track_running_stats=True)\n",
            "    (9): ReLU(inplace=True)\n",
            "    (10): Conv2d(128, 128, kernel_size=(3, 3), stride=(1, 1), padding=(1, 1))\n",
            "    (11): BatchNorm2d(128, eps=1e-05, momentum=0.1, affine=True, track_running_stats=True)\n",
            "    (12): ReLU(inplace=True)\n",
            "    (13): MaxPool2d(kernel_size=2, stride=2, padding=0, dilation=1, ceil_mode=False)\n",
            "    (14): Conv2d(128, 256, kernel_size=(3, 3), stride=(1, 1), padding=(1, 1))\n",
            "    (15): BatchNorm2d(256, eps=1e-05, momentum=0.1, affine=True, track_running_stats=True)\n",
            "    (16): ReLU(inplace=True)\n",
            "    (17): Conv2d(256, 256, kernel_size=(3, 3), stride=(1, 1), padding=(1, 1))\n",
            "    (18): BatchNorm2d(256, eps=1e-05, momentum=0.1, affine=True, track_running_stats=True)\n",
            "    (19): ReLU(inplace=True)\n",
            "    (20): Conv2d(256, 256, kernel_size=(3, 3), stride=(1, 1), padding=(1, 1))\n",
            "    (21): BatchNorm2d(256, eps=1e-05, momentum=0.1, affine=True, track_running_stats=True)\n",
            "    (22): ReLU(inplace=True)\n",
            "    (23): MaxPool2d(kernel_size=2, stride=2, padding=0, dilation=1, ceil_mode=False)\n",
            "    (24): Conv2d(256, 512, kernel_size=(3, 3), stride=(1, 1), padding=(1, 1))\n",
            "    (25): BatchNorm2d(512, eps=1e-05, momentum=0.1, affine=True, track_running_stats=True)\n",
            "    (26): ReLU(inplace=True)\n",
            "    (27): Conv2d(512, 512, kernel_size=(3, 3), stride=(1, 1), padding=(1, 1))\n",
            "    (28): BatchNorm2d(512, eps=1e-05, momentum=0.1, affine=True, track_running_stats=True)\n",
            "    (29): ReLU(inplace=True)\n",
            "    (30): Conv2d(512, 512, kernel_size=(3, 3), stride=(1, 1), padding=(1, 1))\n",
            "    (31): BatchNorm2d(512, eps=1e-05, momentum=0.1, affine=True, track_running_stats=True)\n",
            "    (32): ReLU(inplace=True)\n",
            "    (33): MaxPool2d(kernel_size=2, stride=2, padding=0, dilation=1, ceil_mode=False)\n",
            "    (34): Conv2d(512, 512, kernel_size=(3, 3), stride=(1, 1), padding=(1, 1))\n",
            "    (35): BatchNorm2d(512, eps=1e-05, momentum=0.1, affine=True, track_running_stats=True)\n",
            "    (36): ReLU(inplace=True)\n",
            "    (37): Conv2d(512, 512, kernel_size=(3, 3), stride=(1, 1), padding=(1, 1))\n",
            "    (38): BatchNorm2d(512, eps=1e-05, momentum=0.1, affine=True, track_running_stats=True)\n",
            "    (39): ReLU(inplace=True)\n",
            "    (40): Conv2d(512, 512, kernel_size=(3, 3), stride=(1, 1), padding=(1, 1))\n",
            "    (41): BatchNorm2d(512, eps=1e-05, momentum=0.1, affine=True, track_running_stats=True)\n",
            "    (42): ReLU(inplace=True)\n",
            "    (43): MaxPool2d(kernel_size=2, stride=2, padding=0, dilation=1, ceil_mode=False)\n",
            "  )\n",
            "  (avgpool): AdaptiveAvgPool2d(output_size=(7, 7))\n",
            "  (classifier): Sequential(\n",
            "    (0): Linear(in_features=25088, out_features=4096, bias=True)\n",
            "    (1): ReLU(inplace=True)\n",
            "    (2): Dropout(p=0.5, inplace=False)\n",
            "    (3): Linear(in_features=4096, out_features=4096, bias=True)\n",
            "    (4): ReLU(inplace=True)\n",
            "    (5): Dropout(p=0.5, inplace=False)\n",
            "    (6): Linear(in_features=4096, out_features=2, bias=True)\n",
            "  )\n",
            ")\n"
          ]
        }
      ],
      "source": [
        "print(vgg16)"
      ]
    },
    {
      "cell_type": "code",
      "execution_count": null,
      "metadata": {
        "id": "p6sdtPhTXHCD"
      },
      "outputs": [],
      "source": [
        "# If you want to train the model for more than 2 epochs, set this to True after the first run\n",
        "resume_training = False\n",
        "\n",
        "if resume_training:\n",
        "    print(\"Loading pretrained model..\")\n",
        "    vgg16.load_state_dict(torch.load(BEST_MODEL_PATH))\n",
        "    print(\"Loaded!\")\n",
        "\n",
        "if torch.cuda.is_available():\n",
        "    vgg16.cuda() \n",
        "\n",
        "criterion = nn.CrossEntropyLoss()\n",
        "\n",
        "optimizer_ft = optim.SGD(vgg16.parameters(), lr=0.001, momentum=0.9)\n",
        "exp_lr_scheduler = lr_scheduler.StepLR(optimizer_ft, step_size=7, gamma=0.1)"
      ]
    },
    {
      "cell_type": "markdown",
      "metadata": {
        "id": "2ai0pqoUQve1"
      },
      "source": [
        "# Train"
      ]
    },
    {
      "cell_type": "code",
      "execution_count": null,
      "metadata": {
        "id": "tbCDnya4UrAz"
      },
      "outputs": [],
      "source": [
        "def train_model(model, criterion, optimizer, scheduler, num_epochs=1):\n",
        "    \n",
        "    best_model_wts = copy.deepcopy(model.state_dict())\n",
        "\n",
        "    ## Early stopping\n",
        "    best_loss = 100.0\n",
        "    patience = 2\n",
        "    trigger_times = 0\n",
        "\n",
        "    for epoch in range(num_epochs):\n",
        "        print('Epoch {}/{}'.format(epoch, num_epochs - 1))\n",
        "        print('-' * 10)\n",
        "\n",
        "        # Each epoch has a training and validationidation phase\n",
        "        for phase in [TRAIN, VAL]:\n",
        "            if phase == TRAIN:\n",
        "                model.train()  # Set model to training mode\n",
        "            else:\n",
        "                model.eval()   # Set model to evalidationuate mode\n",
        "\n",
        "            running_loss = 0.0\n",
        "            running_corrects = 0\n",
        "\n",
        "            # Iterate over data.\n",
        "            for inputs, labels in dataloaders[phase]:\n",
        "                inputs = inputs.to(DEVICE)\n",
        "                labels = labels.to(DEVICE)\n",
        "\n",
        "                # zero the parameter gradients\n",
        "                optimizer.zero_grad()\n",
        "\n",
        "                # forward\n",
        "                # track history if only in train\n",
        "                with torch.set_grad_enabled(phase == TRAIN):\n",
        "                    outputs = model(inputs)\n",
        "                    loss = criterion(outputs, labels)\n",
        "\n",
        "                    # backward + optimize only if in training phase\n",
        "                    if phase == TRAIN:\n",
        "                        loss.backward()\n",
        "                        optimizer.step()\n",
        "\n",
        "                # statistics\n",
        "                _, preds = torch.max(outputs, 1)\n",
        "                running_loss += loss.item() * inputs.size(0)\n",
        "                running_corrects += torch.sum(preds == labels.data)\n",
        "            if phase == TRAIN:\n",
        "                scheduler.step()\n",
        "\n",
        "            epoch_loss = running_loss / dataset_sizes[phase]\n",
        "            epoch_acc = float((running_corrects.double() / dataset_sizes[phase]).cpu().detach().numpy())\n",
        "\n",
        "            print('{} Loss: {:.4f} Acc: {:.4f}'.format(\n",
        "                phase, epoch_loss, epoch_acc))\n",
        "\n",
        "            if phase == VAL:\n",
        "                loss_val.append(epoch_loss)\n",
        "                acc_val.append(epoch_acc)\n",
        "\n",
        "                if (epoch_loss < best_loss):\n",
        "                    best_loss = epoch_loss\n",
        "                    best_model_wts = copy.deepcopy(model.state_dict())\n",
        "                    torch.save(model.state_dict(), BEST_MODEL_PATH)\n",
        "                    print('Validation Imporved, save best model ...')\n",
        "\n",
        "                    print('trigger times: 0')\n",
        "                    trigger_times = 0\n",
        "                else:\n",
        "                  trigger_times += 1\n",
        "                  print('trigger times: ', trigger_times)\n",
        "\n",
        "                  if trigger_times >= patience:\n",
        "                      print('Early stopping! \\n ')\n",
        "                      return model,  loss_train,  acc_train, loss_val,  acc_val, epoch\n",
        "\n",
        "            elif phase == TRAIN:\n",
        "                loss_train.append(epoch_loss)\n",
        "                acc_train.append(epoch_acc)\n",
        "            \n",
        "        print()  \n",
        "\n",
        "    # load best model weights\n",
        "    model.load_state_dict(best_model_wts)\n",
        "    return model, loss_train,  acc_train, loss_val,  acc_val, epoch\n"
      ]
    },
    {
      "cell_type": "code",
      "execution_count": null,
      "metadata": {
        "id": "HOTSi2-aUg5C"
      },
      "outputs": [],
      "source": [
        "loss_train = []\n",
        "acc_train = []\n",
        "loss_val = []\n",
        "acc_val = []\n",
        "\n",
        "since = time.time()\n",
        "\n",
        "vgg16, loss_train,  acc_train, loss_val,  acc_val, epoch = train_model(vgg16, criterion, optimizer_ft, exp_lr_scheduler, num_epochs= CONFIG[\"epochs\"])\n",
        "\n",
        "time_elapsed = time.time() - since\n",
        "print('Training complete in {:.0f}m {:.0f}s'.format(\n",
        "    time_elapsed // 60, time_elapsed % 60))\n",
        "\n",
        "visualize_model(vgg16)"
      ]
    },
    {
      "cell_type": "code",
      "execution_count": null,
      "metadata": {
        "id": "9A_izRZc9-PS"
      },
      "outputs": [],
      "source": [
        "# -*- coding: utf-8 -*-\n",
        "import json\n",
        "\n",
        "# # Make it work for Python 2+3 and with Unicode\n",
        "import io\n",
        "# try:\n",
        "#     to_unicode = unicode\n",
        "# except NameError:\n",
        "#     to_unicode = str\n",
        "\n",
        "# Define data\n",
        "data = { 'loss_train': loss_train,\n",
        "        'acc_train': acc_train,\n",
        "        'loss_val': loss_val,\n",
        "        'acc_val': acc_val,\n",
        "        }\n",
        "\n",
        "# Write JSON file\n",
        "with io.open(SAVE_LOG_PATH, 'w', encoding='utf8') as outfile:\n",
        "    str_ = json.dumps(data,\n",
        "                      indent=4, sort_keys=True,\n",
        "                      separators=(',', ': ')\n",
        "                      # , ensure_ascii=False\n",
        "                      )\n",
        "    outfile.write(str_)\n",
        "\n",
        "# Read JSON file\n",
        "with open(SAVE_LOG_PATH) as data_file:\n",
        "    data_loaded = json.load(data_file)\n",
        "\n",
        "print(data == data_loaded)"
      ]
    },
    {
      "cell_type": "code",
      "execution_count": null,
      "metadata": {
        "colab": {
          "base_uri": "https://localhost:8080/",
          "height": 295
        },
        "id": "OFQaoEy2Od8k",
        "outputId": "f1e73c30-a35d-43eb-fc7b-0866ef2d1ef6"
      },
      "outputs": [
        {
          "data": {
            "image/png": "[encoded data removed]",
            "text/plain": [
              "<Figure size 432x288 with 1 Axes>"
            ]
          },
          "metadata": {},
          "output_type": "display_data"
        }
      ],
      "source": [
        "epochs = range(1, epoch + 2)\n",
        "plt.plot(epochs, loss_train, 'g', label='Training loss')\n",
        "plt.plot(epochs, loss_val, 'darkorange', label='Validation loss')\n",
        "plt.title('Training and Validation loss')\n",
        "plt.xlabel('Epochs')\n",
        "plt.ylabel('')\n",
        "plt.legend()\n",
        "plt.show()\n"
      ]
    },
    {
      "cell_type": "code",
      "execution_count": null,
      "metadata": {
        "colab": {
          "base_uri": "https://localhost:8080/",
          "height": 295
        },
        "id": "6-xlM_6AIYOQ",
        "outputId": "ddef0433-1741-415f-b897-a8bd4ec8a606"
      },
      "outputs": [
        {
          "data": {
            "image/png": "[encoded data removed]",
            "text/plain": [
              "<Figure size 432x288 with 1 Axes>"
            ]
          },
          "metadata": {},
          "output_type": "display_data"
        }
      ],
      "source": [
        "epochs = range(1, epoch+2)\n",
        "plt.plot(epochs, acc_train, 'b', label='Training acc')\n",
        "plt.plot(epochs, acc_val, 'r', label='Validation acc')\n",
        "plt.title('Training and Validation accuracy')\n",
        "plt.xlabel('Epochs')\n",
        "plt.ylabel('')\n",
        "plt.legend()\n",
        "plt.show()\n"
      ]
    },
    {
      "cell_type": "markdown",
      "metadata": {
        "id": "-TmegLJqWbJ5"
      },
      "source": [
        "# Testing"
      ]
    },
    {
      "cell_type": "code",
      "execution_count": null,
      "metadata": {
        "colab": {
          "base_uri": "https://localhost:8080/"
        },
        "id": "LgC-SxvaWQBF",
        "outputId": "baac7a01-ca11-4319-8969-d715401a39fe"
      },
      "outputs": [
        {
          "data": {
            "text/plain": [
              "<All keys matched successfully>"
            ]
          },
          "execution_count": 17,
          "metadata": {},
          "output_type": "execute_result"
        }
      ],
      "source": [
        "vgg16.load_state_dict(torch.load(BEST_MODEL_PATH, map_location= DEVICE))"
      ]
    },
    {
      "cell_type": "code",
      "execution_count": null,
      "metadata": {
        "id": "XlPBNgrWD4AX"
      },
      "outputs": [],
      "source": [
        "vgg16.eval()"
      ]
    },
    {
      "cell_type": "code",
      "execution_count": null,
      "metadata": {
        "id": "R1M-GE_tN0lp"
      },
      "outputs": [],
      "source": [
        "if not os.path.exists(SAVE_IMAGE_PATH):\n",
        "    os.makedirs(SAVE_IMAGE_PATH)"
      ]
    },
    {
      "cell_type": "code",
      "execution_count": null,
      "metadata": {
        "colab": {
          "background_save": true
        },
        "id": "KtbxJaWRXW6M"
      },
      "outputs": [],
      "source": [
        "# Initialize the prediction and label lists(tensors)\n",
        "predlist=torch.zeros(0,dtype=torch.long, device='cpu')\n",
        "problist=torch.zeros(0,dtype=torch.long, device='cpu')\n",
        "lbllist=torch.zeros(0,dtype=torch.long, device='cpu')\n",
        "\n",
        "with torch.no_grad():\n",
        "    for i, (inputs, labels) in enumerate(dataloaders[TEST]):\n",
        "        inputs = inputs.to(DEVICE)\n",
        "        labels = labels.to(DEVICE)\n",
        "        outputs = vgg16(inputs)\n",
        "        _,preds = torch.max(outputs, 1)\n",
        "        probs =torch.tensor(torch.nn.functional.softmax(outputs, 1)[:,1])\n",
        "        \n",
        "\n",
        "        # Append batch prediction results\n",
        "        predlist=torch.cat([predlist,preds.view(-1).cpu()])\n",
        "        lbllist=torch.cat([lbllist,labels.view(-1).cpu()])\n",
        "        problist=torch.cat([problist, probs.view(-1).cpu()])\n",
        "\n",
        "        images_so_far = 0\n",
        "        fig = plt.figure()\n",
        "        num_images = 4\n",
        "        \n",
        "        #show mislabelèd image\n",
        "        for j in range(inputs.size()[0]):\n",
        "                if (preds[j] != labels[j]):\n",
        "                    imshow(inputs.cpu().data[j], \n",
        "                           name = '{}/{}_mislabled_p{}_l{}.png'.format(SAVE_IMAGE_PATH,i, preds[j], labels[j] ),\n",
        "                           title = '{} predict {} - label {}'.format(i,class_names[preds[j]], class_names[labels[j]] ))\n",
        "                else:\n",
        "                    imshow(inputs.cpu().data[j], \n",
        "                           title = '{} predict {} - label {}'.format(i,class_names[preds[j]], class_names[labels[j]] ))\n"
      ]
    },
    {
      "cell_type": "code",
      "execution_count": null,
      "metadata": {
        "colab": {
          "base_uri": "https://localhost:8080/",
          "height": 314
        },
        "id": "g_ANv9xhFm7Y",
        "outputId": "c75e3227-61ce-4fa9-eb49-b48add26f90e"
      },
      "outputs": [
        {
          "name": "stdout",
          "output_type": "stream",
          "text": [
            "Best Threshold=0.342442, F-Score=0.955\n",
            "Logistic: f1=0.945 auc=0.987\n"
          ]
        },
        {
          "data": {
            "image/png": "[encoded data removed]",
            "text/plain": [
              "<Figure size 432x288 with 1 Axes>"
            ]
          },
          "metadata": {},
          "output_type": "display_data"
        }
      ],
      "source": [
        "precision, recall, thresholds = precision_recall_curve(lbllist.numpy(), problist.numpy())\n",
        "lr_f1, lr_auc = f1_score(lbllist.numpy(), predlist.numpy()), auc(recall, precision)\n",
        "fscore = (2 * precision * recall) / (precision + recall)\n",
        "# locate the index of the largest f score\n",
        "ix = argmax(fscore)\n",
        "print('Best Threshold=%f, F-Score=%.3f' % (thresholds[ix], fscore[ix]))\n",
        "# summarize scores\n",
        "print('Logistic: f1=%.3f auc=%.3f' % (lr_f1, lr_auc))\n",
        "# plot the precision-recall curves\n",
        "no_skill = len(lbllist.numpy()[lbllist.numpy()==1]) / len(lbllist.numpy())\n",
        "plt.plot([0, 1], [no_skill, no_skill], linestyle='--', label='No Skill')\n",
        "plt.plot(recall, precision, marker='.', label='Logistic')\n",
        "# axis labels\n",
        "plt.xlabel('Recall')\n",
        "plt.ylabel('Precision')\n",
        "# show the legend\n",
        "plt.legend()\n",
        "# show the plot\n",
        "plt.show()"
      ]
    },
    {
      "cell_type": "code",
      "execution_count": null,
      "metadata": {
        "colab": {
          "base_uri": "https://localhost:8080/"
        },
        "id": "dkX3sWgXGFBx",
        "outputId": "42be52da-1daa-4aa6-95c8-5bbb0134ab46"
      },
      "outputs": [
        {
          "name": "stderr",
          "output_type": "stream",
          "text": [
            "/usr/local/lib/python3.7/dist-packages/torch/utils/data/dataloader.py:481: UserWarning: This DataLoader will create 4 worker processes in total. Our suggested max number of worker in current system is 2, which is smaller than what this DataLoader is going to create. Please be aware that excessive worker creation might get DataLoader running slow or even freeze, lower the worker number to avoid potential slowness/freeze if necessary.\n",
            "  cpuset_checked))\n",
            "/usr/local/lib/python3.7/dist-packages/ipykernel_launcher.py:11: UserWarning: To copy construct from a tensor, it is recommended to use sourceTensor.clone().detach() or sourceTensor.clone().detach().requires_grad_(True), rather than torch.tensor(sourceTensor).\n",
            "  # This is added back by InteractiveShellApp.init_path()\n",
            "/usr/local/lib/python3.7/dist-packages/PIL/Image.py:960: UserWarning: Palette images with Transparency expressed in bytes should be converted to RGBA images\n",
            "  \"Palette images with Transparency expressed in bytes should be \"\n"
          ]
        }
      ],
      "source": [
        "# Initialize the prediction and label lists(tensors)\n",
        "predlist_t=torch.zeros(0,dtype=torch.long, device='cpu')\n",
        "problist_t=torch.zeros(0,dtype=torch.long, device='cpu')\n",
        "lbllist_t=torch.zeros(0,dtype=torch.long, device='cpu')\n",
        "\n",
        "with torch.no_grad():\n",
        "    for i, (inputs, labels) in enumerate(dataloaders[TEST]):\n",
        "        inputs = inputs.to(DEVICE)\n",
        "        labels = labels.to(DEVICE)\n",
        "        outputs = vgg16(inputs)\n",
        "        probs =torch.tensor(torch.nn.functional.softmax(outputs, 1)[:,1])\n",
        "        preds = torch.tensor([0 if prob < thresholds[ix] else 1 for prob in probs])\n",
        "        \n",
        "        # Append batch prediction results\n",
        "        predlist_t=torch.cat([predlist_t,preds])\n",
        "        lbllist_t=torch.cat([lbllist_t,labels.view(-1).cpu()])\n",
        "        problist_t=torch.cat([problist_t, probs.view(-1).cpu()])\n"
      ]
    },
    {
      "cell_type": "code",
      "execution_count": null,
      "metadata": {
        "colab": {
          "base_uri": "https://localhost:8080/"
        },
        "id": "tejl24miXZTm",
        "outputId": "7d90084b-adde-4be5-9edd-4a2f3b68c4ac"
      },
      "outputs": [
        {
          "output_type": "stream",
          "name": "stdout",
          "text": [
            "[[156  31]\n",
            " [ 29 516]]\n",
            "[83.42245989 94.67889908]\n",
            "0.9180327868852459\n",
            "              precision    recall  f1-score   support\n",
            "\n",
            "           0       0.84      0.83      0.84       187\n",
            "           1       0.94      0.95      0.95       545\n",
            "\n",
            "    accuracy                           0.92       732\n",
            "   macro avg       0.89      0.89      0.89       732\n",
            "weighted avg       0.92      0.92      0.92       732\n",
            "\n"
          ]
        }
      ],
      "source": [
        "# Confusion matrix\n",
        "conf_mat=confusion_matrix(lbllist.numpy(), predlist.numpy())\n",
        "print(conf_mat)\n",
        "\n",
        "# Per-class accuracy\n",
        "class_accuracy=100*conf_mat.diagonal()/conf_mat.sum(1)\n",
        "print(class_accuracy)\n",
        "\n",
        "#accuracy \n",
        "accuracy = accuracy_score(lbllist.numpy(), predlist.numpy())\n",
        "print(accuracy)\n",
        "\n",
        "classification_report = classification_report(lbllist.numpy(), predlist.numpy())\n",
        "print(classification_report)"
      ]
    },
    {
      "cell_type": "code",
      "execution_count": null,
      "metadata": {
        "colab": {
          "base_uri": "https://localhost:8080/"
        },
        "id": "9ZwcwqdbG5OH",
        "outputId": "7841548b-7c24-4589-cc32-0b3e27821827"
      },
      "outputs": [
        {
          "name": "stdout",
          "output_type": "stream",
          "text": [
            "[[150  37]\n",
            " [ 13 532]]\n",
            "[80.21390374 97.6146789 ]\n",
            "0.9316939890710383\n",
            "              precision    recall  f1-score   support\n",
            "\n",
            "           0       0.92      0.80      0.86       187\n",
            "           1       0.93      0.98      0.96       545\n",
            "\n",
            "    accuracy                           0.93       732\n",
            "   macro avg       0.93      0.89      0.91       732\n",
            "weighted avg       0.93      0.93      0.93       732\n",
            "\n"
          ]
        }
      ],
      "source": [
        "# Confusion matrix\n",
        "conf_mat_t=confusion_matrix(lbllist_t.numpy(), predlist_t.numpy())\n",
        "print(conf_mat_t)\n",
        "\n",
        "# Per-class accuracy\n",
        "class_accuracy_t=100*conf_mat_t.diagonal()/conf_mat_t.sum(1)\n",
        "print(class_accuracy_t)\n",
        "\n",
        "#accuracy \n",
        "accuracy_t = accuracy_score(lbllist_t.numpy(), predlist_t.numpy())\n",
        "print(accuracy_t)\n",
        "\n",
        "classification_report_t = classification_report(lbllist_t.numpy(), predlist_t.numpy())\n",
        "print(classification_report_t)"
      ]
    },
    {
      "cell_type": "code",
      "execution_count": null,
      "metadata": {
        "id": "kXaz_v0MY7WO",
        "colab": {
          "base_uri": "https://localhost:8080/",
          "height": 282
        },
        "outputId": "d0488bf4-0c2d-4b23-dc78-dacea0ebcc7b"
      },
      "outputs": [
        {
          "output_type": "execute_result",
          "data": {
            "text/plain": [
              "<matplotlib.axes._subplots.AxesSubplot at 0x7f36cc647250>"
            ]
          },
          "metadata": {},
          "execution_count": 28
        },
        {
          "output_type": "display_data",
          "data": {
            "image/png": "[encoded data removed]",
            "text/plain": [
              "<Figure size 432x288 with 2 Axes>"
            ]
          },
          "metadata": {
            "needs_background": "light"
          }
        }
      ],
      "source": [
        "import seaborn as sns\n",
        "sns.heatmap(conf_mat, fmt = 'g' ,annot=True)"
      ]
    },
    {
      "cell_type": "code",
      "execution_count": null,
      "metadata": {
        "id": "sJ18fgH8Z3dM"
      },
      "outputs": [],
      "source": [
        "! zip -r mispre.zip mispre"
      ]
    }
  ],
  "metadata": {
    "accelerator": "GPU",
    "colab": {
      "collapsed_sections": [
        "nGdvn1ej95tP",
        "K3x_v44RAv-z"
      ],
      "name": "VGG16.ipynb",
      "provenance": [],
      "toc_visible": true,
      "history_visible": true,
      "include_colab_link": true
    },
    "kernelspec": {
      "display_name": "Python 3",
      "language": "python",
      "name": "python3"
    },
    "language_info": {
      "codemirror_mode": {
        "name": "ipython",
        "version": 3
      },
      "file_extension": ".py",
      "mimetype": "text/x-python",
      "name": "python",
      "nbconvert_exporter": "python",
      "pygments_lexer": "ipython3",
      "version": "3.7.6"
    }
  },
  "nbformat": 4,
  "nbformat_minor": 0
}